{
 "cells": [
  {
   "cell_type": "code",
   "execution_count": 45,
   "metadata": {
    "collapsed": false
   },
   "outputs": [],
   "source": [
    "import numpy as np \n",
    "import matplotlib.pyplot as plt \n",
    "import pandas as pd \n",
    "from pandas import DataFrame, Series"
   ]
  },
  {
   "cell_type": "code",
   "execution_count": 46,
   "metadata": {
    "collapsed": false
   },
   "outputs": [],
   "source": [
    "data = pd.read_csv(\"Comps_Data.csv\")"
   ]
  },
  {
   "cell_type": "code",
   "execution_count": 47,
   "metadata": {
    "collapsed": false
   },
   "outputs": [
    {
     "data": {
      "text/plain": [
       "pandas.core.frame.DataFrame"
      ]
     },
     "execution_count": 47,
     "metadata": {},
     "output_type": "execute_result"
    }
   ],
   "source": [
    "type(data)"
   ]
  },
  {
   "cell_type": "code",
   "execution_count": 48,
   "metadata": {
    "collapsed": false
   },
   "outputs": [
    {
     "name": "stdout",
     "output_type": "stream",
     "text": [
      "7\n"
     ]
    }
   ],
   "source": [
    "# AA1 is the 6 digit industry code\n",
    "string = str(data.AA1[2])\n",
    "print string[:1]"
   ]
  },
  {
   "cell_type": "code",
   "execution_count": 51,
   "metadata": {
    "collapsed": false
   },
   "outputs": [],
   "source": [
    "for index, row in data.iterrows():\n",
    "    string = str(row.AA1)\n",
    "    data.loc[index, \"industry_code\"] = string[:1]"
   ]
  },
  {
   "cell_type": "code",
   "execution_count": 52,
   "metadata": {
    "collapsed": false
   },
   "outputs": [
    {
     "data": {
      "text/plain": [
       "0       4\n",
       "1       4\n",
       "2       7\n",
       "3       5\n",
       "4       2\n",
       "5       3\n",
       "6       5\n",
       "7       3\n",
       "8       2\n",
       "9       5\n",
       "10      8\n",
       "11      3\n",
       "12      2\n",
       "13      4\n",
       "14      5\n",
       "15      4\n",
       "16      5\n",
       "17      5\n",
       "18      6\n",
       "19      7\n",
       "20      3\n",
       "21      8\n",
       "22      4\n",
       "23      8\n",
       "24      5\n",
       "25      4\n",
       "26      2\n",
       "27      8\n",
       "28      4\n",
       "29      5\n",
       "       ..\n",
       "1184    3\n",
       "1185    5\n",
       "1186    6\n",
       "1187    6\n",
       "1188    1\n",
       "1189    4\n",
       "1190    4\n",
       "1191    5\n",
       "1192    5\n",
       "1193    8\n",
       "1194    4\n",
       "1195    4\n",
       "1196    4\n",
       "1197    5\n",
       "1198    5\n",
       "1199    5\n",
       "1200    2\n",
       "1201    4\n",
       "1202    3\n",
       "1203    5\n",
       "1204    5\n",
       "1205    8\n",
       "1206    4\n",
       "1207    4\n",
       "1208    4\n",
       "1209    3\n",
       "1210    4\n",
       "1211    5\n",
       "1212    2\n",
       "1213    4\n",
       "Name: industry_code, dtype: object"
      ]
     },
     "execution_count": 52,
     "metadata": {},
     "output_type": "execute_result"
    }
   ],
   "source": [
    "data.industry_code"
   ]
  },
  {
   "cell_type": "code",
   "execution_count": 53,
   "metadata": {
    "collapsed": true
   },
   "outputs": [],
   "source": [
    "data.to_csv('data2.csv', encoding = 'utf-8')"
   ]
  },
  {
   "cell_type": "code",
   "execution_count": null,
   "metadata": {
    "collapsed": true
   },
   "outputs": [],
   "source": []
  }
 ],
 "metadata": {
  "kernelspec": {
   "display_name": "Python 2",
   "language": "python",
   "name": "python2"
  },
  "language_info": {
   "codemirror_mode": {
    "name": "ipython",
    "version": 2
   },
   "file_extension": ".py",
   "mimetype": "text/x-python",
   "name": "python",
   "nbconvert_exporter": "python",
   "pygments_lexer": "ipython2",
   "version": "2.7.11"
  }
 },
 "nbformat": 4,
 "nbformat_minor": 0
}
