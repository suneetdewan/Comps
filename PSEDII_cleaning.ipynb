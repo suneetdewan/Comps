{
 "cells": [
  {
   "cell_type": "markdown",
   "metadata": {
    "collapsed": true
   },
   "source": [
    "# Suneet Dewan\n",
    "### Foundation to Fortune: The Effect of Human Capital on Entrepreneurial Success"
   ]
  },
  {
   "cell_type": "markdown",
   "metadata": {},
   "source": [
    "##### Code for organizing and cleaning the PSED II dataset"
   ]
  },
  {
   "cell_type": "code",
   "execution_count": null,
   "metadata": {
    "collapsed": true
   },
   "outputs": [],
   "source": [
    "import numpy as np \n",
    "import matplotlib.pyplot as plt \n",
    "import pandas as pd \n",
    "from pandas import DataFrame, Series"
   ]
  },
  {
   "cell_type": "markdown",
   "metadata": {},
   "source": [
    "#### Takes the First Code of the 6 digit NAICS code and puts into a new column \"industry_code\""
   ]
  },
  {
   "cell_type": "code",
   "execution_count": null,
   "metadata": {
    "collapsed": true
   },
   "outputs": [],
   "source": [
    "for index, row in data.iterrows():\n",
    "    string = str(row.AA1)\n",
    "    data.loc[index, \"industry_code\"] = string[:1]"
   ]
  },
  {
   "cell_type": "markdown",
   "metadata": {},
   "source": [
    "#### If the firms survives after 2 years"
   ]
  },
  {
   "cell_type": "code",
   "execution_count": null,
   "metadata": {
    "collapsed": true
   },
   "outputs": [],
   "source": [
    "for index, row in data.iterrows():\n",
    "    if row.BA50 == 3:\n",
    "        data.loc[index, \"survive_2\"] = 0\n",
    "    else:\n",
    "        data.loc[index, \"survive_2\"] = 1"
   ]
  },
  {
   "cell_type": "markdown",
   "metadata": {},
   "source": [
    "#### If the firms survives after 3 years"
   ]
  },
  {
   "cell_type": "code",
   "execution_count": null,
   "metadata": {
    "collapsed": true
   },
   "outputs": [],
   "source": [
    "for index, row in data.iterrows():\n",
    "    if row.CA50 == 'Quit' or row.survive_2 == 0:\n",
    "        data.loc[index, \"survive_3\"] = 0\n",
    "    else:\n",
    "        data.loc[index, \"survive_3\"] = 1"
   ]
  },
  {
   "cell_type": "markdown",
   "metadata": {},
   "source": [
    "#### Profit in 2nd year"
   ]
  },
  {
   "cell_type": "code",
   "execution_count": null,
   "metadata": {
    "collapsed": true
   },
   "outputs": [],
   "source": [
    "for index, row in data.iterrows():\n",
    "    if row.BA50 == 1:\n",
    "        data.loc[index, \"profit_2\"] = 1;\n",
    "    else:\n",
    "        data.loc[index, \"profit_2\"] = 0"
   ]
  },
  {
   "cell_type": "markdown",
   "metadata": {},
   "source": [
    "#### Profit in 3rd year"
   ]
  },
  {
   "cell_type": "code",
   "execution_count": null,
   "metadata": {
    "collapsed": true
   },
   "outputs": [],
   "source": [
    "for index, row in data.iterrows():\n",
    "    if row.CA50 == 'New Firm':\n",
    "        data.loc[index, \"profit_3\"] = 1;\n",
    "    else:\n",
    "        data.loc[index, \"profit_3\"] = 0"
   ]
  },
  {
   "cell_type": "markdown",
   "metadata": {},
   "source": [
    "#### Ever profitable in the first 3 years"
   ]
  },
  {
   "cell_type": "code",
   "execution_count": null,
   "metadata": {
    "collapsed": true
   },
   "outputs": [],
   "source": [
    "for index, row in data.iterrows():\n",
    "    if row.profit_2 == 1 or row.profit_3 == 1:\n",
    "        data.loc[index, \"profit\"] = 1;\n",
    "    else:\n",
    "        data.loc[index, \"profit\"] = 0"
   ]
  },
  {
   "cell_type": "markdown",
   "metadata": {},
   "source": [
    "#### Previous Entrepreneurial Experience Dummy"
   ]
  },
  {
   "cell_type": "code",
   "execution_count": null,
   "metadata": {
    "collapsed": true
   },
   "outputs": [],
   "source": [
    "for index, row in data.iterrows():\n",
    "    if row.AH12_1 > 0:\n",
    "        data.loc[index, \"entrep_exp\"] = 1;\n",
    "    else:\n",
    "        data.loc[index, \"entrep_exp\"] = 0"
   ]
  },
  {
   "cell_type": "markdown",
   "metadata": {},
   "source": [
    "#### Previous Industry Experience Dummy"
   ]
  },
  {
   "cell_type": "code",
   "execution_count": null,
   "metadata": {
    "collapsed": true
   },
   "outputs": [],
   "source": [
    "for index, row in data.iterrows():\n",
    "    if row.AH11_1 > 0:\n",
    "        data.loc[index, \"industry_exp\"] = 1;\n",
    "    else:\n",
    "        data.loc[index, \"industry_exp\"] = 0"
   ]
  },
  {
   "cell_type": "markdown",
   "metadata": {},
   "source": [
    "#### Entrepreneurial Parents Dummy"
   ]
  },
  {
   "cell_type": "code",
   "execution_count": null,
   "metadata": {
    "collapsed": true
   },
   "outputs": [],
   "source": [
    "for index, row in data.iterrows():\n",
    "    if row.AZ8 == 'Yes':\n",
    "        data.loc[index, \"parents\"] = 1;\n",
    "    else:\n",
    "        data.loc[index, \"parents\"] = 0"
   ]
  },
  {
   "cell_type": "markdown",
   "metadata": {},
   "source": [
    "#### Race: White or not, dummy"
   ]
  },
  {
   "cell_type": "code",
   "execution_count": null,
   "metadata": {
    "collapsed": true
   },
   "outputs": [],
   "source": [
    "for index, row in data.iterrows():\n",
    "    if row.AH4a_1 == 'Yes':\n",
    "        data.loc[index, \"white\"] = 1;\n",
    "    else:\n",
    "        data.loc[index, \"white\"] = 0"
   ]
  },
  {
   "cell_type": "markdown",
   "metadata": {},
   "source": [
    "#### Team Size"
   ]
  },
  {
   "cell_type": "code",
   "execution_count": null,
   "metadata": {
    "collapsed": true
   },
   "outputs": [],
   "source": [
    "for index, row in data.iterrows():\n",
    "    if row.AG2 < 5:\n",
    "        data.loc[index, \"team_size\"] = row.AG2 ;\n",
    "    else:\n",
    "        data.loc[index, \"team_size\"] = 5"
   ]
  },
  {
   "cell_type": "markdown",
   "metadata": {},
   "source": [
    "#### 'Alone or not'. 1 if not alone, 0 if alone"
   ]
  },
  {
   "cell_type": "code",
   "execution_count": null,
   "metadata": {
    "collapsed": true
   },
   "outputs": [],
   "source": [
    "for index, row in data.iterrows():\n",
    "    if row.AG2 > 1:\n",
    "        data.loc[index, \"alone_or_not\"] = 1 ;\n",
    "    else:\n",
    "        data.loc[index, \"alone_or_not\"] = 0"
   ]
  },
  {
   "cell_type": "markdown",
   "metadata": {},
   "source": [
    "#### Major Reason Dummy"
   ]
  },
  {
   "cell_type": "code",
   "execution_count": null,
   "metadata": {
    "collapsed": true
   },
   "outputs": [],
   "source": [
    "for index, row in data.iterrows():\n",
    "    if row.AA2a == \"Work experience; knowledge of field\" or row.AA2b == \"Work experience; knowledge of field\":\n",
    "        data.loc[index, \"major_reason\"] = 1  ;\n",
    "    else:\n",
    "        data.loc[index, \"major_reason\"] = 0"
   ]
  },
  {
   "cell_type": "markdown",
   "metadata": {},
   "source": [
    "#### Managerial Experience Dummy"
   ]
  },
  {
   "cell_type": "code",
   "execution_count": null,
   "metadata": {
    "collapsed": true
   },
   "outputs": [],
   "source": [
    "for index, row in data.iterrows():\n",
    "    if row.AH21_1 > 0:\n",
    "        data.loc[index, \"manager_exp\"] = 1;\n",
    "    else:\n",
    "        data.loc[index, \"manager_exp\"] = 0;"
   ]
  },
  {
   "cell_type": "markdown",
   "metadata": {},
   "source": [
    "#### Grouping education into 4 smaller categories"
   ]
  },
  {
   "cell_type": "code",
   "execution_count": null,
   "metadata": {
    "collapsed": true
   },
   "outputs": [],
   "source": [
    "for index, row in data.iterrows():\n",
    "    if row.AH6_1 == 'Up to eighth grade' or row.AH6_1 == 'Some high school' or row.AH6_1 == 'High school degree':\n",
    "        data.loc[index, \"education_smaller\"] = 'High School or Below'\n",
    "    if row.AH6_1 == 'Some college' or row.AH6_1 == 'Technical or vocational degree' or row.AH6_1 == 'Community college degree':\n",
    "        data.loc[index, \"education_smaller\"] = \"Some college\"\n",
    "    if row.AH6_1 == 'Bachelors degree' or row.AH6_1 == 'Some graduate training':\n",
    "        data.loc[index, \"education_smaller\"] = 'Bachelors degree'\n",
    "    if row.AH6_1 == 'Masters degree' or row.AH6_1 == 'Law, MD, PHD, EDD, Degree':\n",
    "        data.loc[index, \"education_smaller\"] ='Graduate degree'"
   ]
  },
  {
   "cell_type": "markdown",
   "metadata": {},
   "source": [
    "#### Commitment. 35 hours or not"
   ]
  },
  {
   "cell_type": "code",
   "execution_count": null,
   "metadata": {
    "collapsed": true
   },
   "outputs": [],
   "source": [
    "for index, row in data.iterrows():\n",
    "    if row.AH17_1 == 'Yes':\n",
    "        data.loc[index, \"35hours\"] = 1\n",
    "    else:\n",
    "        data.loc[index, \"35hours\"] = 0"
   ]
  },
  {
   "cell_type": "markdown",
   "metadata": {},
   "source": [
    "#### Net Worth Dummy"
   ]
  },
  {
   "cell_type": "code",
   "execution_count": null,
   "metadata": {
    "collapsed": true
   },
   "outputs": [],
   "source": [
    "import math\n",
    "\n",
    "for index, row in data.iterrows():\n",
    "    if math.isnan(row.AZ36x) :\n",
    "        data.loc[index, \"net_worth_dummy\"] = 0;\n",
    "    else:\n",
    "        data.loc[index, \"net_worth_dummy\"] = 1;"
   ]
  },
  {
   "cell_type": "markdown",
   "metadata": {},
   "source": [
    "#### Gender"
   ]
  },
  {
   "cell_type": "code",
   "execution_count": null,
   "metadata": {
    "collapsed": true
   },
   "outputs": [],
   "source": [
    "data[\"Gender\"] = data.AH1_1"
   ]
  },
  {
   "cell_type": "markdown",
   "metadata": {},
   "source": [
    "#### Work Experience"
   ]
  },
  {
   "cell_type": "code",
   "execution_count": null,
   "metadata": {
    "collapsed": true
   },
   "outputs": [],
   "source": [
    "data[\"work_experience\"] = row.AH20_1"
   ]
  },
  {
   "cell_type": "markdown",
   "metadata": {},
   "source": [
    "#### Net Worth"
   ]
  },
  {
   "cell_type": "code",
   "execution_count": null,
   "metadata": {
    "collapsed": true
   },
   "outputs": [],
   "source": [
    "for index, row in data.iterrows():\n",
    "    if row.net_worth_dummy == 1:\n",
    "        data.loc[index, 'net_worth'] = row.AZ36x\n",
    "    else:\n",
    "        data.loc[index, 'net_worth'] = 0"
   ]
  },
  {
   "cell_type": "markdown",
   "metadata": {},
   "source": [
    "#### Revenue Dummy"
   ]
  },
  {
   "cell_type": "code",
   "execution_count": null,
   "metadata": {
    "collapsed": true
   },
   "outputs": [],
   "source": [
    "for index, row in data.iterrows():\n",
    "    if row.AE13 == 'Yes' or row.BE13 == 'Yes' or row.CE13 == 'Yes':\n",
    "        data.loc[index, 'rev'] = 1\n",
    "    else:\n",
    "        data.loc[index, 'rev'] = 0"
   ]
  },
  {
   "cell_type": "code",
   "execution_count": null,
   "metadata": {
    "collapsed": true
   },
   "outputs": [],
   "source": [
    "data.to_csv(\"data2_everything.csv\", encoding = \"utf-8\")"
   ]
  }
 ],
 "metadata": {
  "kernelspec": {
   "display_name": "Python 2",
   "language": "python",
   "name": "python2"
  },
  "language_info": {
   "codemirror_mode": {
    "name": "ipython",
    "version": 2
   },
   "file_extension": ".py",
   "mimetype": "text/x-python",
   "name": "python",
   "nbconvert_exporter": "python",
   "pygments_lexer": "ipython2",
   "version": "2.7.11"
  }
 },
 "nbformat": 4,
 "nbformat_minor": 0
}
